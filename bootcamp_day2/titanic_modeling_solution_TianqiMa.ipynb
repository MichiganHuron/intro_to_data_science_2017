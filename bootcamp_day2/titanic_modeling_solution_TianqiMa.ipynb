{
 "cells": [
  {
   "cell_type": "markdown",
   "metadata": {},
   "source": [
    "# Setup"
   ]
  },
  {
   "cell_type": "markdown",
   "metadata": {},
   "source": [
    "## Import"
   ]
  },
  {
   "cell_type": "code",
   "execution_count": null,
   "metadata": {
    "collapsed": true
   },
   "outputs": [],
   "source": [
    "% matplotlib inline\n",
    "import pandas as pd\n",
    "import numpy as np\n",
    "import matplotlib\n",
    "import matplotlib.pyplot as plt\n",
    "from sklearn.model_selection import train_test_split\n",
    "from sklearn.ensemble import RandomForestClassifier\n",
    "from sklearn import metrics\n",
    "from sklearn.feature_selection import SelectFromModel \n",
    "from sklearn.model_selection import GridSearchCV\n",
    "from sklearn.metrics import classification_report"
   ]
  },
  {
   "cell_type": "markdown",
   "metadata": {},
   "source": [
    "## User defined functions"
   ]
  },
  {
   "cell_type": "code",
   "execution_count": 18,
   "metadata": {
    "collapsed": true
   },
   "outputs": [],
   "source": [
    "def draw_roc_plot(fpr_rt_lm, tpr_rt_lm):\n",
    "    # plot AUC curve\n",
    "    plt.figure(1)\n",
    "    plt.plot([0, 1], [0, 1], 'k--')\n",
    "    plt.plot(fpr_rt_lm, tpr_rt_lm, label='RT + LR')\n",
    "    metrics.auc(fpr_rt_lm, tpr_rt_lm)"
   ]
  },
  {
   "cell_type": "markdown",
   "metadata": {},
   "source": [
    "# Modeling"
   ]
  },
  {
   "cell_type": "code",
   "execution_count": 5,
   "metadata": {},
   "outputs": [],
   "source": [
    "# read in the dataset\n",
    "df_imputed = pd.read_csv('model_ready_data.csv')"
   ]
  },
  {
   "cell_type": "code",
   "execution_count": 6,
   "metadata": {},
   "outputs": [],
   "source": [
    "# train test split\n",
    "df_train, df_test = train_test_split(df_imputed,test_size=0.33, random_state=42)"
   ]
  },
  {
   "cell_type": "code",
   "execution_count": 7,
   "metadata": {
    "collapsed": true
   },
   "outputs": [],
   "source": [
    "# seperate predictor and target variabel\n",
    "target_train = df_train['Survived'] \n",
    "target_test = df_test['Survived']\n",
    "df_train=df_train.drop([\"Survived\"],axis=1)\n",
    "df_test=df_test.drop([\"Survived\"],axis=1)"
   ]
  },
  {
   "cell_type": "code",
   "execution_count": 31,
   "metadata": {},
   "outputs": [
    {
     "data": {
      "text/plain": [
       "RandomForestClassifier(bootstrap=True, class_weight=None, criterion='gini',\n",
       "            max_depth=20, max_features='auto', max_leaf_nodes=None,\n",
       "            min_impurity_decrease=0.0, min_impurity_split=None,\n",
       "            min_samples_leaf=1, min_samples_split=2,\n",
       "            min_weight_fraction_leaf=0.0, n_estimators=500, n_jobs=1,\n",
       "            oob_score=False, random_state=None, verbose=0,\n",
       "            warm_start=False)"
      ]
     },
     "execution_count": 31,
     "metadata": {},
     "output_type": "execute_result"
    }
   ],
   "source": [
    "# create model object\n",
    "rf = RandomForestClassifier(n_estimators=500,max_depth=20)\n",
    "# fit model\n",
    "rf.fit(df_train, target_train)"
   ]
  },
  {
   "cell_type": "code",
   "execution_count": 32,
   "metadata": {
    "collapsed": true
   },
   "outputs": [],
   "source": [
    "#Get the prediction in probability\n",
    "clf_probs = rf.predict_proba(df_test) "
   ]
  },
  {
   "cell_type": "code",
   "execution_count": 33,
   "metadata": {
    "scrolled": true
   },
   "outputs": [
    {
     "data": {
      "text/plain": [
       "0.86585714285714288"
      ]
     },
     "execution_count": 33,
     "metadata": {},
     "output_type": "execute_result"
    }
   ],
   "source": [
    "# Calculate AUC\n",
    "fpr_rt_lm, tpr_rt_lm, _ = metrics.roc_curve(target_test,clf_probs[:, 1])\n",
    "metrics.auc(fpr_rt_lm, tpr_rt_lm)\n",
    "#Run ROC and get AUC value"
   ]
  },
  {
   "cell_type": "code",
   "execution_count": 34,
   "metadata": {},
   "outputs": [
    {
     "data": {
      "image/png": "[encoded data removed]",
      "text/plain": [
       "<matplotlib.figure.Figure at 0x11c891110>"
      ]
     },
     "metadata": {},
     "output_type": "display_data"
    }
   ],
   "source": [
    "draw_roc_plot(fpr_rt_lm, tpr_rt_lm)"
   ]
  },
  {
   "cell_type": "code",
   "execution_count": 29,
   "metadata": {},
   "outputs": [
    {
     "name": "stdout",
     "output_type": "stream",
     "text": [
      "==================================================\n",
      "# Tuning hyper-parameters for precision_macro\n",
      "--------------------------------------------------\n",
      "Best parameters set found on development set:\n",
      "{'n_estimators': 10, 'max_depth': 4}\n",
      "--------------------------------------------------\n",
      "Grid scores on development set:\n",
      "0.772 (+/-0.176) for {'n_estimators': 10, 'max_depth': 2}\n",
      "0.769 (+/-0.172) for {'n_estimators': 100, 'max_depth': 2}\n",
      "0.796 (+/-0.192) for {'n_estimators': 10, 'max_depth': 4}\n",
      "0.791 (+/-0.191) for {'n_estimators': 100, 'max_depth': 4}\n",
      "--------------------------------------------------\n",
      "Detailed classification report:\n",
      "The model is trained on the full development set.\n",
      "The scores are computed on the full evaluation set.\n",
      "             precision    recall  f1-score   support\n",
      "\n",
      "          0       0.82      0.83      0.83       175\n",
      "          1       0.75      0.74      0.74       120\n",
      "\n",
      "avg / total       0.79      0.79      0.79       295\n",
      "\n",
      "--------------------------------------------------\n",
      "Best AUC:\n",
      "0.877785714286\n",
      "==================================================\n",
      "# Tuning hyper-parameters for recall_macro\n",
      "--------------------------------------------------\n",
      "Best parameters set found on development set:\n",
      "{'n_estimators': 100, 'max_depth': 4}\n",
      "--------------------------------------------------\n",
      "Grid scores on development set:\n",
      "0.759 (+/-0.173) for {'n_estimators': 10, 'max_depth': 2}\n",
      "0.757 (+/-0.168) for {'n_estimators': 100, 'max_depth': 2}\n",
      "0.777 (+/-0.195) for {'n_estimators': 10, 'max_depth': 4}\n",
      "0.780 (+/-0.189) for {'n_estimators': 100, 'max_depth': 4}\n",
      "--------------------------------------------------\n",
      "Detailed classification report:\n",
      "The model is trained on the full development set.\n",
      "The scores are computed on the full evaluation set.\n",
      "             precision    recall  f1-score   support\n",
      "\n",
      "          0       0.82      0.86      0.84       175\n",
      "          1       0.77      0.72      0.74       120\n",
      "\n",
      "avg / total       0.80      0.80      0.80       295\n",
      "\n",
      "--------------------------------------------------\n",
      "Best AUC:\n",
      "0.868857142857\n",
      "==================================================\n",
      "# Tuning hyper-parameters for roc_auc\n",
      "--------------------------------------------------\n",
      "Best parameters set found on development set:\n",
      "{'n_estimators': 10, 'max_depth': 4}\n",
      "--------------------------------------------------\n",
      "Grid scores on development set:\n",
      "0.833 (+/-0.180) for {'n_estimators': 10, 'max_depth': 2}\n",
      "0.831 (+/-0.168) for {'n_estimators': 100, 'max_depth': 2}\n",
      "0.839 (+/-0.176) for {'n_estimators': 10, 'max_depth': 4}\n",
      "0.834 (+/-0.185) for {'n_estimators': 100, 'max_depth': 4}\n",
      "--------------------------------------------------\n",
      "Detailed classification report:\n",
      "The model is trained on the full development set.\n",
      "The scores are computed on the full evaluation set.\n",
      "             precision    recall  f1-score   support\n",
      "\n",
      "          0       0.83      0.87      0.85       175\n",
      "          1       0.79      0.73      0.76       120\n",
      "\n",
      "avg / total       0.81      0.81      0.81       295\n",
      "\n",
      "--------------------------------------------------\n",
      "Best AUC:\n",
      "0.874714285714\n"
     ]
    }
   ],
   "source": [
    "# Choose the parameters and its range\n",
    "tuned_parameters = [{'n_estimators': [10, 100], 'max_depth': [2, 4]}]\n",
    "\n",
    "scores = ['precision_macro', 'recall_macro', 'roc_auc']\n",
    "\n",
    "#Tuning with three judgements\n",
    "for score in scores:\n",
    "    print \"=\" * 50\n",
    "    print(\"# Tuning hyper-parameters for %s\" % score)\n",
    "    \n",
    "    clf = GridSearchCV(RandomForestClassifier(), tuned_parameters, cv=10, n_jobs=-1,\n",
    "                       scoring='%s' % score)\n",
    "    clf.fit(df_train, target_train)\n",
    "    \n",
    "    print \"-\" * 50\n",
    "    print(\"Best parameters set found on development set:\")\n",
    "    print(clf.best_params_)\n",
    "    \n",
    "    print \"-\" * 50\n",
    "    print(\"Grid scores on development set:\")\n",
    "    means = clf.cv_results_['mean_test_score']\n",
    "    stds = clf.cv_results_['std_test_score']\n",
    "    param_sets = clf.cv_results_['params']\n",
    "    for mean, std, params in zip(means, stds, param_sets):\n",
    "        print(\"%0.3f (+/-%0.03f) for %r\"\n",
    "              % (mean, std * 2, params))\n",
    "        \n",
    "    print \"-\" * 50\n",
    "    print(\"Detailed classification report:\")\n",
    "    print(\"The model is trained on the full development set.\")\n",
    "    print(\"The scores are computed on the full evaluation set.\")\n",
    "    \n",
    "    target_true, target_pred = target_test, clf.predict(df_test)\n",
    "    print(classification_report(target_true, target_pred))\n",
    "    \n",
    "    clf_probs = clf.predict_proba(df_test) \n",
    "    fpr_rt_lm, tpr_rt_lm, _ = metrics.roc_curve(target_test,clf_probs[:, 1])\n",
    "    \n",
    "    print \"-\" * 50\n",
    "    print (\"Best AUC:\")\n",
    "    print(metrics.auc(fpr_rt_lm, tpr_rt_lm))\n",
    "    \n",
    "    "
   ]
  },
  {
   "cell_type": "code",
   "execution_count": 35,
   "metadata": {},
   "outputs": [
    {
     "data": {
      "text/plain": [
       "((596, 4), (295, 4))"
      ]
     },
     "execution_count": 35,
     "metadata": {},
     "output_type": "execute_result"
    }
   ],
   "source": [
    "#Using feture importance to select features\n",
    "importance = rf.feature_importances_\n",
    "model = SelectFromModel(rf, prefit=True)\n",
    "df_train_new = model.transform(df_train)\n",
    "df_test_new = model.transform(df_test)\n",
    "df_train_new.shape , df_test_new.shape"
   ]
  },
  {
   "cell_type": "code",
   "execution_count": 37,
   "metadata": {},
   "outputs": [
    {
     "data": {
      "text/plain": [
       "RandomForestClassifier(bootstrap=True, class_weight=None, criterion='gini',\n",
       "            max_depth=4, max_features='auto', max_leaf_nodes=None,\n",
       "            min_impurity_decrease=0.0, min_impurity_split=None,\n",
       "            min_samples_leaf=1, min_samples_split=2,\n",
       "            min_weight_fraction_leaf=0.0, n_estimators=100, n_jobs=1,\n",
       "            oob_score=False, random_state=None, verbose=0,\n",
       "            warm_start=False)"
      ]
     },
     "execution_count": 37,
     "metadata": {},
     "output_type": "execute_result"
    }
   ],
   "source": [
    "#Fit model with optimal parameters and features\n",
    "rfn = RandomForestClassifier(n_estimators=100,max_depth=4)\n",
    "rfn.fit(df_train, target_train)"
   ]
  },
  {
   "cell_type": "code",
   "execution_count": 38,
   "metadata": {},
   "outputs": [
    {
     "data": {
      "text/plain": [
       "0.86814285714285711"
      ]
     },
     "execution_count": 38,
     "metadata": {},
     "output_type": "execute_result"
    }
   ],
   "source": [
    "#Recalculate the AUC in 'Better feature' testset\n",
    "rfn_probs = rfn.predict_proba(df_test) #Get the prediction in probability\n",
    "fpr_rfn_lm, tpr_rfn_lm, _ = metrics.roc_curve(target_test,rfn_probs[:, 1])\n",
    "metrics.auc(fpr_rfn_lm, tpr_rfn_lm)"
   ]
  },
  {
   "cell_type": "code",
   "execution_count": 39,
   "metadata": {},
   "outputs": [
    {
     "data": {
      "image/png": "[encoded data removed]",
      "text/plain": [
       "<matplotlib.figure.Figure at 0x11cbfff10>"
      ]
     },
     "metadata": {},
     "output_type": "display_data"
    }
   ],
   "source": [
    "draw_roc_plot(fpr_rt_lm, tpr_rt_lm)"
   ]
  },
  {
   "cell_type": "code",
   "execution_count": null,
   "metadata": {
    "collapsed": true
   },
   "outputs": [],
   "source": []
  }
 ],
 "metadata": {
  "kernelspec": {
   "display_name": "Python 2",
   "language": "python",
   "name": "python2"
  },
  "language_info": {
   "codemirror_mode": {
    "name": "ipython",
    "version": 2
   },
   "file_extension": ".py",
   "mimetype": "text/x-python",
   "name": "python",
   "nbconvert_exporter": "python",
   "pygments_lexer": "ipython2",
   "version": "2.7.13"
  }
 },
 "nbformat": 4,
 "nbformat_minor": 2
}
